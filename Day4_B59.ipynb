{
 "cells": [
  {
   "cell_type": "code",
   "execution_count": null,
   "id": "159e2b3c",
   "metadata": {},
   "outputs": [],
   "source": [
    "# Introduction to list datatypes"
   ]
  },
  {
   "cell_type": "code",
   "execution_count": 5,
   "id": "7fa0bc0c",
   "metadata": {},
   "outputs": [],
   "source": [
    "student = ['Amir','Afwan', 'shabana', 'tuba', 'ziya','ajaz','javed']"
   ]
  },
  {
   "cell_type": "code",
   "execution_count": 6,
   "id": "63d74b7f",
   "metadata": {},
   "outputs": [
    {
     "name": "stdout",
     "output_type": "stream",
     "text": [
      "['Amir', 'Afwan', 'shabana', 'tuba', 'ziya', 'ajaz', 'javed']\n"
     ]
    }
   ],
   "source": [
    "print(student)"
   ]
  },
  {
   "cell_type": "code",
   "execution_count": null,
   "id": "dd3632c9",
   "metadata": {},
   "outputs": [],
   "source": []
  },
  {
   "cell_type": "code",
   "execution_count": null,
   "id": "d01c4d5a",
   "metadata": {},
   "outputs": [],
   "source": [
    "# Req 1: To add element 'Ruby' in the list "
   ]
  },
  {
   "cell_type": "code",
   "execution_count": 10,
   "id": "c185fa23",
   "metadata": {},
   "outputs": [],
   "source": [
    "student.append('Ruby')"
   ]
  },
  {
   "cell_type": "code",
   "execution_count": 11,
   "id": "b279a862",
   "metadata": {},
   "outputs": [
    {
     "name": "stdout",
     "output_type": "stream",
     "text": [
      "['Amir', 'Afwan', 'shabana', 'tuba', 'ziya', 'ajaz', 'javed', 'Ruby', 'Ruby', 'Ruby']\n"
     ]
    }
   ],
   "source": [
    "print(student)"
   ]
  },
  {
   "cell_type": "code",
   "execution_count": null,
   "id": "0db0c592",
   "metadata": {},
   "outputs": [],
   "source": []
  },
  {
   "cell_type": "code",
   "execution_count": null,
   "id": "90da7832",
   "metadata": {},
   "outputs": [],
   "source": [
    "# Req 2: To add element 'arham' at the 2nd index"
   ]
  },
  {
   "cell_type": "code",
   "execution_count": 16,
   "id": "946f7d89",
   "metadata": {},
   "outputs": [],
   "source": [
    "student.insert(2,'arham')"
   ]
  },
  {
   "cell_type": "code",
   "execution_count": 17,
   "id": "64b79912",
   "metadata": {},
   "outputs": [
    {
     "name": "stdout",
     "output_type": "stream",
     "text": [
      "['Amir', 'Afwan', 'arham', 'arham', 'arham', 'shabana', 'tuba', 'ziya', 'ajaz', 'javed', 'Ruby', 'Ruby', 'Ruby']\n"
     ]
    }
   ],
   "source": [
    "print(student)"
   ]
  },
  {
   "cell_type": "code",
   "execution_count": null,
   "id": "6e2088cc",
   "metadata": {},
   "outputs": [],
   "source": []
  },
  {
   "cell_type": "code",
   "execution_count": null,
   "id": "f04a47a5",
   "metadata": {},
   "outputs": [],
   "source": [
    "# Req 3: To delete element 'arham' from the list"
   ]
  },
  {
   "cell_type": "code",
   "execution_count": 19,
   "id": "eef40874",
   "metadata": {},
   "outputs": [],
   "source": [
    "del student[2]"
   ]
  },
  {
   "cell_type": "code",
   "execution_count": 20,
   "id": "2f62a538",
   "metadata": {},
   "outputs": [
    {
     "name": "stdout",
     "output_type": "stream",
     "text": [
      "['Amir', 'Afwan', 'arham', 'arham', 'shabana', 'tuba', 'ziya', 'ajaz', 'javed', 'Ruby', 'Ruby', 'Ruby']\n"
     ]
    }
   ],
   "source": [
    "print(student)"
   ]
  },
  {
   "cell_type": "code",
   "execution_count": null,
   "id": "50c49e24",
   "metadata": {},
   "outputs": [],
   "source": []
  },
  {
   "cell_type": "code",
   "execution_count": null,
   "id": "61011ece",
   "metadata": {},
   "outputs": [],
   "source": [
    "# Req 4: To modify element 'arham' at index 3"
   ]
  },
  {
   "cell_type": "code",
   "execution_count": 21,
   "id": "a1b8d1df",
   "metadata": {},
   "outputs": [],
   "source": [
    "student[3] = 'Hadi'"
   ]
  },
  {
   "cell_type": "code",
   "execution_count": 22,
   "id": "60b34564",
   "metadata": {},
   "outputs": [
    {
     "name": "stdout",
     "output_type": "stream",
     "text": [
      "['Amir', 'Afwan', 'arham', 'Hadi', 'shabana', 'tuba', 'ziya', 'ajaz', 'javed', 'Ruby', 'Ruby', 'Ruby']\n"
     ]
    }
   ],
   "source": [
    "print(student)"
   ]
  },
  {
   "cell_type": "code",
   "execution_count": null,
   "id": "33347a73",
   "metadata": {},
   "outputs": [],
   "source": []
  },
  {
   "cell_type": "code",
   "execution_count": null,
   "id": "583088f0",
   "metadata": {},
   "outputs": [],
   "source": []
  },
  {
   "cell_type": "code",
   "execution_count": null,
   "id": "29ed7e85",
   "metadata": {},
   "outputs": [],
   "source": []
  },
  {
   "cell_type": "code",
   "execution_count": null,
   "id": "af4c7aef",
   "metadata": {},
   "outputs": [],
   "source": []
  }
 ],
 "metadata": {
  "kernelspec": {
   "display_name": "Python 3 (ipykernel)",
   "language": "python",
   "name": "python3"
  },
  "language_info": {
   "codemirror_mode": {
    "name": "ipython",
    "version": 3
   },
   "file_extension": ".py",
   "mimetype": "text/x-python",
   "name": "python",
   "nbconvert_exporter": "python",
   "pygments_lexer": "ipython3",
   "version": "3.9.12"
  }
 },
 "nbformat": 4,
 "nbformat_minor": 5
}
