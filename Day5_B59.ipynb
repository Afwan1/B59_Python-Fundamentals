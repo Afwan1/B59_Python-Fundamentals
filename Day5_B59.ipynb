{
 "cells": [
  {
   "cell_type": "code",
   "execution_count": null,
   "id": "dd8457eb",
   "metadata": {},
   "outputs": [],
   "source": [
    "# Organising the list dataype"
   ]
  },
  {
   "cell_type": "code",
   "execution_count": 3,
   "id": "68199138",
   "metadata": {},
   "outputs": [],
   "source": [
    "cars = ['kia','maruti','hyundai','honda','audi','bmw']"
   ]
  },
  {
   "cell_type": "code",
   "execution_count": 4,
   "id": "007b4a67",
   "metadata": {},
   "outputs": [
    {
     "name": "stdout",
     "output_type": "stream",
     "text": [
      "['kia', 'maruti', 'hyundai', 'honda', 'audi', 'bmw']\n"
     ]
    }
   ],
   "source": [
    "print(cars)"
   ]
  },
  {
   "cell_type": "code",
   "execution_count": null,
   "id": "a604d9ee",
   "metadata": {},
   "outputs": [],
   "source": []
  },
  {
   "cell_type": "code",
   "execution_count": null,
   "id": "2b422359",
   "metadata": {},
   "outputs": [],
   "source": []
  },
  {
   "cell_type": "code",
   "execution_count": null,
   "id": "b87a6195",
   "metadata": {},
   "outputs": [],
   "source": [
    "# I want to arrange above list in alphabetical order..... A - Z"
   ]
  },
  {
   "cell_type": "code",
   "execution_count": 5,
   "id": "f09da799",
   "metadata": {},
   "outputs": [
    {
     "name": "stdout",
     "output_type": "stream",
     "text": [
      "['audi', 'bmw', 'honda', 'hyundai', 'kia', 'maruti']\n"
     ]
    }
   ],
   "source": [
    "print(sorted(cars))"
   ]
  },
  {
   "cell_type": "code",
   "execution_count": null,
   "id": "4c46ff0f",
   "metadata": {},
   "outputs": [],
   "source": []
  },
  {
   "cell_type": "code",
   "execution_count": null,
   "id": "5fd876a6",
   "metadata": {},
   "outputs": [],
   "source": []
  },
  {
   "cell_type": "code",
   "execution_count": null,
   "id": "2e6ce661",
   "metadata": {},
   "outputs": [],
   "source": [
    "There are 2 approach \n",
    "\n",
    "1. Temp appoach -----    sorted   ------>   W ecan retain the original order\n",
    "\n",
    "2.permanent approach    -----  sort  ------>  changes are applied peranently "
   ]
  },
  {
   "cell_type": "code",
   "execution_count": 6,
   "id": "6d301ad8",
   "metadata": {},
   "outputs": [
    {
     "name": "stdout",
     "output_type": "stream",
     "text": [
      "['audi', 'bmw', 'honda', 'hyundai', 'kia', 'maruti']\n"
     ]
    }
   ],
   "source": [
    "print(sorted(cars))"
   ]
  },
  {
   "cell_type": "code",
   "execution_count": null,
   "id": "fc5e0ebe",
   "metadata": {},
   "outputs": [],
   "source": []
  },
  {
   "cell_type": "code",
   "execution_count": null,
   "id": "04d5d5bd",
   "metadata": {},
   "outputs": [],
   "source": [
    "# I want to arrange elements alphabetically permanently"
   ]
  },
  {
   "cell_type": "code",
   "execution_count": 8,
   "id": "2d5d88ff",
   "metadata": {},
   "outputs": [],
   "source": [
    "cars.sort()"
   ]
  },
  {
   "cell_type": "code",
   "execution_count": 9,
   "id": "83dc0655",
   "metadata": {},
   "outputs": [
    {
     "name": "stdout",
     "output_type": "stream",
     "text": [
      "['audi', 'bmw', 'honda', 'hyundai', 'kia', 'maruti']\n"
     ]
    }
   ],
   "source": [
    "print(cars)"
   ]
  },
  {
   "cell_type": "code",
   "execution_count": null,
   "id": "a6971eee",
   "metadata": {},
   "outputs": [],
   "source": []
  },
  {
   "cell_type": "code",
   "execution_count": null,
   "id": "4daf32e5",
   "metadata": {},
   "outputs": [],
   "source": [
    "# I want to reverse elements present in the list"
   ]
  },
  {
   "cell_type": "code",
   "execution_count": 10,
   "id": "a4711da6",
   "metadata": {},
   "outputs": [],
   "source": [
    "cars.reverse()"
   ]
  },
  {
   "cell_type": "code",
   "execution_count": 11,
   "id": "46f5d675",
   "metadata": {},
   "outputs": [
    {
     "name": "stdout",
     "output_type": "stream",
     "text": [
      "['maruti', 'kia', 'hyundai', 'honda', 'bmw', 'audi']\n"
     ]
    }
   ],
   "source": [
    "print(cars)"
   ]
  },
  {
   "cell_type": "code",
   "execution_count": null,
   "id": "87157ff2",
   "metadata": {},
   "outputs": [],
   "source": []
  },
  {
   "cell_type": "code",
   "execution_count": null,
   "id": "e83c4aa7",
   "metadata": {},
   "outputs": [],
   "source": [
    "# I want to count no of elements present in the list"
   ]
  },
  {
   "cell_type": "code",
   "execution_count": 12,
   "id": "0dcbda7f",
   "metadata": {},
   "outputs": [
    {
     "data": {
      "text/plain": [
       "6"
      ]
     },
     "execution_count": 12,
     "metadata": {},
     "output_type": "execute_result"
    }
   ],
   "source": [
    "len(cars)"
   ]
  },
  {
   "cell_type": "code",
   "execution_count": null,
   "id": "f4d45b69",
   "metadata": {},
   "outputs": [],
   "source": []
  },
  {
   "cell_type": "code",
   "execution_count": null,
   "id": "463def0a",
   "metadata": {},
   "outputs": [],
   "source": [
    "# I want to include porche and lexus in the list "
   ]
  },
  {
   "cell_type": "code",
   "execution_count": null,
   "id": "db2f50d4",
   "metadata": {},
   "outputs": [],
   "source": []
  },
  {
   "cell_type": "code",
   "execution_count": 14,
   "id": "8cd03337",
   "metadata": {},
   "outputs": [],
   "source": [
    "cars.append('porche')"
   ]
  },
  {
   "cell_type": "code",
   "execution_count": 15,
   "id": "b9295b0f",
   "metadata": {},
   "outputs": [
    {
     "name": "stdout",
     "output_type": "stream",
     "text": [
      "['maruti', 'kia', 'hyundai', 'honda', 'bmw', 'audi', 'porche']\n"
     ]
    }
   ],
   "source": [
    "print(cars)"
   ]
  },
  {
   "cell_type": "code",
   "execution_count": null,
   "id": "611cde6a",
   "metadata": {},
   "outputs": [],
   "source": []
  },
  {
   "cell_type": "code",
   "execution_count": null,
   "id": "26d6e7c3",
   "metadata": {},
   "outputs": [],
   "source": [
    "# Slicing of list datatype"
   ]
  },
  {
   "cell_type": "code",
   "execution_count": null,
   "id": "54b65459",
   "metadata": {},
   "outputs": [],
   "source": []
  },
  {
   "cell_type": "code",
   "execution_count": 16,
   "id": "13ef3c58",
   "metadata": {},
   "outputs": [
    {
     "name": "stdout",
     "output_type": "stream",
     "text": [
      "['maruti']\n"
     ]
    }
   ],
   "source": [
    "print(cars[0:1])"
   ]
  },
  {
   "cell_type": "code",
   "execution_count": 17,
   "id": "c1f9a356",
   "metadata": {},
   "outputs": [
    {
     "name": "stdout",
     "output_type": "stream",
     "text": [
      "['maruti', 'kia']\n"
     ]
    }
   ],
   "source": [
    "print(cars[0:2])"
   ]
  },
  {
   "cell_type": "code",
   "execution_count": null,
   "id": "2c1ad631",
   "metadata": {},
   "outputs": [],
   "source": []
  },
  {
   "cell_type": "code",
   "execution_count": 20,
   "id": "b07bc0aa",
   "metadata": {},
   "outputs": [
    {
     "name": "stdout",
     "output_type": "stream",
     "text": [
      "['honda']\n"
     ]
    }
   ],
   "source": [
    "print(cars[3:4])"
   ]
  },
  {
   "cell_type": "code",
   "execution_count": null,
   "id": "e4699401",
   "metadata": {},
   "outputs": [],
   "source": []
  },
  {
   "cell_type": "code",
   "execution_count": 21,
   "id": "ff784ec1",
   "metadata": {},
   "outputs": [
    {
     "name": "stdout",
     "output_type": "stream",
     "text": [
      "['maruti', 'hyundai', 'bmw']\n"
     ]
    }
   ],
   "source": [
    "print(cars[0:5:2])"
   ]
  },
  {
   "cell_type": "code",
   "execution_count": null,
   "id": "aa0b79b1",
   "metadata": {},
   "outputs": [],
   "source": []
  }
 ],
 "metadata": {
  "kernelspec": {
   "display_name": "Python 3 (ipykernel)",
   "language": "python",
   "name": "python3"
  },
  "language_info": {
   "codemirror_mode": {
    "name": "ipython",
    "version": 3
   },
   "file_extension": ".py",
   "mimetype": "text/x-python",
   "name": "python",
   "nbconvert_exporter": "python",
   "pygments_lexer": "ipython3",
   "version": "3.9.12"
  }
 },
 "nbformat": 4,
 "nbformat_minor": 5
}
