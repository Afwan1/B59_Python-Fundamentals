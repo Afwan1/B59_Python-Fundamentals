{
 "cells": [
  {
   "cell_type": "code",
   "execution_count": 1,
   "id": "627254cf",
   "metadata": {},
   "outputs": [
    {
     "name": "stdout",
     "output_type": "stream",
     "text": [
      "Python\n"
     ]
    }
   ],
   "source": [
    "print(\"Python\")"
   ]
  },
  {
   "cell_type": "code",
   "execution_count": 4,
   "id": "ee55cd0c",
   "metadata": {},
   "outputs": [
    {
     "name": "stdout",
     "output_type": "stream",
     "text": [
      "Afwan\n"
     ]
    }
   ],
   "source": [
    "firstname = \"Afwan\"\n",
    "print(first_name)"
   ]
  },
  {
   "cell_type": "code",
   "execution_count": 9,
   "id": "c5819c7b",
   "metadata": {},
   "outputs": [
    {
     "data": {
      "text/plain": [
       "str"
      ]
     },
     "execution_count": 9,
     "metadata": {},
     "output_type": "execute_result"
    }
   ],
   "source": [
    "firstname = \"afwan\"\n",
    "type(firstname)"
   ]
  },
  {
   "cell_type": "code",
   "execution_count": 6,
   "id": "4d513193",
   "metadata": {},
   "outputs": [
    {
     "name": "stdout",
     "output_type": "stream",
     "text": [
      "AFWAN\n"
     ]
    }
   ],
   "source": [
    "firstname = \"afwan\"\n",
    "print(firstname.upper())"
   ]
  },
  {
   "cell_type": "code",
   "execution_count": 7,
   "id": "ce1591b7",
   "metadata": {},
   "outputs": [
    {
     "name": "stdout",
     "output_type": "stream",
     "text": [
      "afwan\n"
     ]
    }
   ],
   "source": [
    "firstname = \"afwan\"\n",
    "print(firstname.lower())"
   ]
  },
  {
   "cell_type": "code",
   "execution_count": 8,
   "id": "9d53cfd7",
   "metadata": {},
   "outputs": [
    {
     "name": "stdout",
     "output_type": "stream",
     "text": [
      "Afwan\n"
     ]
    }
   ],
   "source": [
    "firstname = \"afwan\"\n",
    "print(firstname.title())"
   ]
  },
  {
   "cell_type": "code",
   "execution_count": 11,
   "id": "3afc4c79",
   "metadata": {},
   "outputs": [
    {
     "name": "stdout",
     "output_type": "stream",
     "text": [
      " Mohd Afwan\n"
     ]
    }
   ],
   "source": [
    "firstname = \"Mohd\"\n",
    "Lastname = \"Afwan\"\n",
    "\n",
    "fullname = f\" {firstname} {Lastname}\"\n",
    "print(fullname.title())"
   ]
  },
  {
   "cell_type": "code",
   "execution_count": null,
   "id": "37628528",
   "metadata": {},
   "outputs": [],
   "source": [
    "# Adding white spaces to strings:"
   ]
  },
  {
   "cell_type": "code",
   "execution_count": 13,
   "id": "8d9034ca",
   "metadata": {},
   "outputs": [
    {
     "name": "stdout",
     "output_type": "stream",
     "text": [
      "Best companies are: TCSINFOSYSEYAMDOCS\n"
     ]
    }
   ],
   "source": [
    "print(\"Best companies are: TCSINFOSYSEYAMDOCS\")"
   ]
  },
  {
   "cell_type": "code",
   "execution_count": 15,
   "id": "f4f1ad3b",
   "metadata": {},
   "outputs": [
    {
     "name": "stdout",
     "output_type": "stream",
     "text": [
      "Best companies are: \n",
      "TCS\n",
      "INFOSYS\n",
      "EY\n",
      "AMDOCS\n"
     ]
    }
   ],
   "source": [
    "print(\"Best companies are: \\nTCS\\nINFOSYS\\nEY\\nAMDOCS\")"
   ]
  },
  {
   "cell_type": "code",
   "execution_count": 17,
   "id": "6ed482df",
   "metadata": {},
   "outputs": [
    {
     "name": "stdout",
     "output_type": "stream",
     "text": [
      "Best companies are: \n",
      "\tTCS\n",
      "\tINFOSYS\n",
      "\tEY\n",
      "\tAMDOCS\n"
     ]
    }
   ],
   "source": [
    "print(\"Best companies are: \\n\\tTCS\\n\\tINFOSYS\\n\\tEY\\n\\tAMDOCS\")"
   ]
  },
  {
   "cell_type": "code",
   "execution_count": null,
   "id": "32b997df",
   "metadata": {},
   "outputs": [],
   "source": []
  }
 ],
 "metadata": {
  "kernelspec": {
   "display_name": "Python 3 (ipykernel)",
   "language": "python",
   "name": "python3"
  },
  "language_info": {
   "codemirror_mode": {
    "name": "ipython",
    "version": 3
   },
   "file_extension": ".py",
   "mimetype": "text/x-python",
   "name": "python",
   "nbconvert_exporter": "python",
   "pygments_lexer": "ipython3",
   "version": "3.9.12"
  }
 },
 "nbformat": 4,
 "nbformat_minor": 5
}
